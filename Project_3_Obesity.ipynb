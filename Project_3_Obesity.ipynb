{
  "cells": [
    {
      "cell_type": "markdown",
      "metadata": {
        "id": "ZNOPTPZaarzL"
      },
      "source": [
        "**Obesity Dataset**"
      ]
    },
    {
      "cell_type": "markdown",
      "source": [
        "Obesity is an imbalanced dataset with 16 features out of which 3 are continuous, while 13 are categorical.\n",
        "\n",
        "We use boxplots to visualize the distribution of continuous data. All the categorical data is then processed through one-hot encoding. Continuous data is processed by recalculation of outliers and then scaled to a range of 0 to 1.\n",
        "\n",
        "Next, we perform feature selection on the dataset using different feature selection methods including RFE, Mutual Information, Variance Thresholding, and PCA. The best average of the results is obtained using PCA with 3 components.\n",
        "\n",
        "After this, cross validation is performed for each of the procedures, where the number of splits is set to 5. The best performing parameters for each of the algorithms are found through GridSearchCV."
      ],
      "metadata": {
        "id": "dwTVaKxcw_RD"
      }
    },
    {
      "cell_type": "markdown",
      "metadata": {
        "id": "NtTzwGgBdFVr"
      },
      "source": [
        "### **Preprocessing Functions**"
      ]
    },
    {
      "cell_type": "code",
      "execution_count": 2,
      "metadata": {
        "id": "gLKel1ZOzX5F"
      },
      "outputs": [],
      "source": [
        "import pandas as pd\n",
        "import numpy as np\n",
        "import math\n",
        "import seaborn as sns\n",
        "import matplotlib.pyplot as plt\n",
        "from sklearn.feature_selection import SelectKBest, chi2, VarianceThreshold, mutual_info_regression, RFE\n",
        "from sklearn.neighbors import KNeighborsClassifier, LocalOutlierFactor\n",
        "from sklearn.preprocessing import StandardScaler, MinMaxScaler\n",
        "from sklearn.decomposition import PCA\n",
        "from sklearn.model_selection import train_test_split, GridSearchCV, cross_val_score, KFold, StratifiedKFold\n",
        "from sklearn.pipeline import Pipeline\n",
        "from sklearn.metrics import classification_report, confusion_matrix\n",
        "from sklearn.linear_model import LinearRegression, LogisticRegression\n",
        "from sklearn.svm import SVC, OneClassSVM\n",
        "from sklearn.ensemble import RandomForestClassifier, IsolationForest\n",
        "from sklearn.tree import DecisionTreeClassifier\n",
        "import statsmodels.api as sm\n",
        "from imblearn.over_sampling import SMOTE\n",
        "from google.colab import files\n",
        "from sklearn.metrics.pairwise import euclidean_distances"
      ]
    },
    {
      "cell_type": "code",
      "execution_count": 3,
      "metadata": {
        "id": "k-jzEOxN_0HZ"
      },
      "outputs": [],
      "source": [
        "def feature_selection(df, headers, target, method, n):\n",
        "\n",
        "  # separating target from the data\n",
        "  X=df[headers]\n",
        "  y=df[target]\n",
        "\n",
        "  # correlation heatmap\n",
        "  #plt.figure(figsize = (25, 25))\n",
        "  #sns.heatmap(df.corr(), annot = True, cmap='coolwarm', fmt='.2f')\n",
        "  #print(\"\\n\")\n",
        "\n",
        "  if ((method == 'chi2') | (method == 'mutualinfo')):\n",
        "    features = fs_chi_mutual(X, y, n, method)\n",
        "\n",
        "  elif (method == 'varthresh'):\n",
        "    features = fs_varthresh(X, y, n)\n",
        "\n",
        "  elif (method == 'rfe'):\n",
        "    features = fs_rfe(X, y, n)\n",
        "\n",
        "  elif (method == 'pca'):\n",
        "    features = fs_pca(X, y, n)\n",
        "  else:\n",
        "    print(\"Wrong input method\")\n",
        "    return\n",
        "\n",
        "  print('\\n')\n",
        "  return features\n"
      ]
    },
    {
      "cell_type": "code",
      "execution_count": 4,
      "metadata": {
        "id": "NyR3aaTZQosY"
      },
      "outputs": [],
      "source": [
        "def fs_chi_mutual(X, y, k, method):\n",
        "\n",
        "  # Feature extraction\n",
        "  if (method == 'chi2'):\n",
        "    selector = SelectKBest(chi2, k=k)\n",
        "    print(\"Selected features using Chi2 method are:\")\n",
        "  elif (method == 'mutualinfo'):\n",
        "    selector = SelectKBest(mutual_info_regression, k=k)\n",
        "    print(\"Selected features using Mutual Information method are:\")\n",
        "\n",
        "  fit = selector.fit_transform(X, y)\n",
        "\n",
        "  # Get the indices of the selected features\n",
        "  indices = selector.get_support(indices=True)\n",
        "\n",
        "  # Get the column names of the selected features\n",
        "  feature_names = X.columns[indices].tolist()\n",
        "  print(feature_names)\n",
        "  return fit"
      ]
    },
    {
      "cell_type": "code",
      "execution_count": 5,
      "metadata": {
        "id": "5zuXpMsBPkmx"
      },
      "outputs": [],
      "source": [
        "def fs_varthresh(X, y, thresh):\n",
        "\n",
        "  # Feature extraction using variance threshold\n",
        "  var_thresh = VarianceThreshold(threshold = thresh)\n",
        "  var_thresh.fit(X)\n",
        "  indices = var_thresh.get_support(indices = True)\n",
        "\n",
        "  # Get the column names of the selected features\n",
        "  feature_names = X.columns[indices].tolist()\n",
        "  print(\"Selected features using Variance Thresholding filter method are:\")\n",
        "  print(feature_names)\n",
        "  return X[feature_names]\n"
      ]
    },
    {
      "cell_type": "code",
      "execution_count": 6,
      "metadata": {
        "id": "5Z5HC0flGU8Q"
      },
      "outputs": [],
      "source": [
        "def fs_rfe(X, y, k):\n",
        "\n",
        "  # applying RFE using linear regression\n",
        "  estimator = LinearRegression()\n",
        "  selector = RFE(estimator, n_features_to_select=k, importance_getter='auto')\n",
        "  fit = selector.fit_transform(X, y)\n",
        "\n",
        "  # Get the indices of the selected features\n",
        "  indices = selector.get_support(indices=True)\n",
        "\n",
        "  # Get the column names of the selected features\n",
        "  feature_names = X.columns[indices].tolist()\n",
        "\n",
        "  print(\"Selected features using Recursive Feature Elimination wrapper method are:\")\n",
        "  print(feature_names)\n",
        "  return fit\n"
      ]
    },
    {
      "cell_type": "code",
      "execution_count": 7,
      "metadata": {
        "id": "ogHCyFc2l9YO"
      },
      "outputs": [],
      "source": [
        "def fs_pca(X, y, n):\n",
        "# function for Principal Component Analysis\n",
        "\n",
        "  pca = PCA(n_components = n)\n",
        "  features = pca.fit_transform(X)\n",
        "\n",
        "  return features\n"
      ]
    },
    {
      "cell_type": "code",
      "execution_count": 8,
      "metadata": {
        "id": "SUEM6p9rC15F"
      },
      "outputs": [],
      "source": [
        "def cat_visualization(df, args):\n",
        "# function to visualize of categorical data\n",
        "\n",
        "    fig, axes = plt.subplots(7, 5, figsize=(25, 25))\n",
        "    axes = axes.ravel()\n",
        "    for i, arg in enumerate(args[:-1]):\n",
        "        sns.countplot(data=df, x=arg, hue=args[-1], ax=axes[i])\n",
        "    plt.tight_layout(w_pad=1)\n",
        "    plt.suptitle('Data Distributions of Categorical Features against Target values', fontsize=20, y=1.02)\n",
        "    plt.show()"
      ]
    },
    {
      "cell_type": "code",
      "execution_count": 9,
      "metadata": {
        "id": "bNsJQ_U7l2T3"
      },
      "outputs": [],
      "source": [
        "def cont_visualization(df, int_cols):\n",
        "# function to visualize continuous data\n",
        "\n",
        "  # histogram of all continuous features\n",
        "  fig, axs = plt.subplots(6, 5, figsize=(12,15))\n",
        "  for f, ax in zip(int_cols, axs.ravel()):\n",
        "      mi = df[f].min()\n",
        "      ma = df[f].max()\n",
        "      bins = np.linspace(mi, ma, 30)\n",
        "      ax.hist(df[f], bins=bins, alpha=0.6)\n",
        "      ax.set_xlabel(f)\n",
        "\n",
        "  plt.tight_layout(w_pad=1)\n",
        "  plt.suptitle('Data Distribution of Numerical Features', fontsize=20, y=1.02)\n",
        "  plt.show()"
      ]
    },
    {
      "cell_type": "code",
      "execution_count": 10,
      "metadata": {
        "id": "DNLB3wnJ01d9"
      },
      "outputs": [],
      "source": [
        "def exploratory_analysis(df, continuous, target):\n",
        "\n",
        "  print(\"5 Number Summary:\")\n",
        "  print(df.describe())\n",
        "  print(\"\\n\")\n",
        "\n",
        "  cont_visualization(df, continuous)\n",
        "  print(\"\\n\")\n"
      ]
    },
    {
      "cell_type": "code",
      "execution_count": 11,
      "metadata": {
        "id": "HHsrO2lTLbW6"
      },
      "outputs": [],
      "source": [
        "def data_preprocessing():\n",
        "  path='/content/Dataset 3 - Obesity.csv'\n",
        "  df = pd.read_csv(path)\n",
        "  headers = df.columns.tolist()\n",
        "  target = 'NObeyesdad'\n",
        "  attributes = [x for x in headers if x!=target]\n",
        "  continuous = ['Age', 'Height', 'Weight']\n",
        "  categorical = [x for x in attributes if x not in continuous]\n",
        "\n",
        "  # boxplots of continuous data to visualize data distribution\n",
        "  print(\"\\n Boxplots of Continuous Data before Pre-Processing:\")\n",
        "  fig, axs = plt.subplots(1, 3, figsize=(12, 3))\n",
        "  for i, header in enumerate(continuous):\n",
        "    axs = axs.ravel()\n",
        "    sns.boxplot(x=df[header], ax=axs[i])\n",
        "    axs[i].set_title(header)\n",
        "  plt.tight_layout()\n",
        "  plt.show()\n",
        "\n",
        "  # one-hot encoding of categorical data\n",
        "  df = pd.get_dummies(df, columns=categorical)\n",
        "\n",
        "  headers = df.columns.tolist()\n",
        "  attributes = [x for x in headers if x!=target]\n",
        "  continuous = ['Age', 'Height', 'Weight']\n",
        "  categorical = [x for x in attributes if x not in continuous]\n",
        "\n",
        "  # label encoding of \"Target\"\n",
        "  df[target]=df[target].map({'Not Obese':1, 'Obese':0})\n",
        "\n",
        "  # fixing outliers to replace them with minimum or maximum allowed values\n",
        "  for header in continuous:\n",
        "    Q1 = df[header].quantile(0.25)\n",
        "    Q3 = df[header].quantile(0.75)\n",
        "    IQR = Q3 - Q1\n",
        "    #replacing outliers with Minimum and Maximum values\n",
        "    df[header]=np.where(df[header] < (Q1 - (1.5*IQR)), Q1 - 1.5 * IQR, np.where(df[header] > (Q3 + (1.5*IQR)), Q3 + (1.5*IQR), df[header]))\n",
        "  df.fillna(0, inplace=True)\n",
        "\n",
        "  # boxplots of continuous data to visualize data distribution\n",
        "  print(\"\\n Boxplots of Continuous Data after Fixing Outliers:\")\n",
        "  fig, axs = plt.subplots(1, 3, figsize=(12, 3))\n",
        "  for i, header in enumerate(continuous):\n",
        "    axs = axs.ravel()\n",
        "    sns.boxplot(x=df[header], ax=axs[i])\n",
        "    axs[i].set_title(header)\n",
        "  plt.tight_layout()\n",
        "  plt.show()\n",
        "\n",
        "  return df, continuous, categorical, target\n"
      ]
    },
    {
      "cell_type": "code",
      "execution_count": 12,
      "metadata": {
        "id": "ZdQ-QjMe06wp"
      },
      "outputs": [],
      "source": [
        "def data_processing(df, continuous, categorical, target):\n",
        "\n",
        "  # scaling continuous data such that all columns are in the range 0 to 1\n",
        "  scaler = MinMaxScaler()\n",
        "  df[continuous] = scaler.fit_transform(df[continuous]) #Scaling and normalizing numerical data\n",
        "\n",
        "  # performing Feature Selection using Chi2\n",
        "  selected_df = feature_selection(df, continuous+categorical, target, 'pca', 3)\n",
        "\n",
        "  # separating target from the data\n",
        "  X = selected_df\n",
        "  y = df[target]\n",
        "\n",
        "  return X, y\n"
      ]
    },
    {
      "cell_type": "code",
      "source": [
        "def split_data(X, y):\n",
        "\n",
        "  # splitting data into training and test sets\n",
        "  X_train, X_test, y_train, y_test = train_test_split(X, y, test_size=0.3, random_state=24)\n",
        "\n",
        "  print(\"The dimension of X_train is {}\".format(X_train.shape))\n",
        "  print(\"The dimension of X_test is {}\".format(X_test.shape))\n",
        "\n",
        "  return X_train, X_test, y_train, y_test"
      ],
      "metadata": {
        "id": "aKUesiOLHY99"
      },
      "execution_count": 13,
      "outputs": []
    },
    {
      "cell_type": "markdown",
      "metadata": {
        "id": "BaLWaWfRbde9"
      },
      "source": [
        "## **Baseline Analysis**"
      ]
    },
    {
      "cell_type": "code",
      "source": [
        "def baseline_model(splits, estimator, param_grid):\n",
        "\n",
        "  X_train, X_test, y_train, y_test = splits\n",
        "\n",
        "  # Create GridSearchCV object with stratified cross-validation\n",
        "  stratified_cv = StratifiedKFold(n_splits=5, shuffle=True, random_state=39)\n",
        "  grid_search = GridSearchCV(estimator=estimator, param_grid=param_grid, cv=stratified_cv, scoring='accuracy')\n",
        "\n",
        "  # Fit GridSearchCV to training data after scaling\n",
        "  grid_search.fit(X_train, y_train)\n",
        "\n",
        "  best_params = grid_search.best_params_\n",
        "  print(\"\\nBest Parameters:\", best_params)\n",
        "  print(\"\\n\")\n",
        "  # Access best model and hyperparameters\n",
        "  best_model = grid_search.best_estimator_\n",
        "\n",
        "  train_score = best_model.score(X_train,y_train)\n",
        "  test_score = best_model.score(X_test,y_test)\n",
        "\n",
        "  print(\"The train score for the best KNN model is {}\".format(train_score))\n",
        "  print(\"The test score for the best KNN model is {}\\n\".format(test_score))\n",
        "\n",
        "  y_pred = best_model.predict(X_test)\n",
        "\n",
        "  return y_pred"
      ],
      "metadata": {
        "id": "lM28q4ciPoRB"
      },
      "execution_count": null,
      "outputs": []
    },
    {
      "cell_type": "code",
      "source": [
        "def baseline_main():\n",
        "\n",
        "  df, continuous, categorical, target = data_preprocessing()\n",
        "  X, y = data_processing(df, continuous, categorical, target)\n",
        "  X_train, X_test, y_train, y_test = split_data(X, y)\n",
        "\n",
        "  splits = [X_train, X_test, y_train, y_test]\n",
        "\n",
        "\n",
        "\n",
        "  # KNN CLASSIFIER\n",
        "  print(\"\\n\\n\\n -------------------- KNN CLASSIFIER --------------------\")\n",
        "  knn_estimator = KNeighborsClassifier()\n",
        "  knn_param_grid = {'n_neighbors': [x for x in range(1,21)]}\n",
        "  y_pred_knn = baseline_model(splits, knn_estimator, knn_param_grid)\n",
        "\n",
        "  print(\"Classification Report Using KNN:\")\n",
        "  print(classification_report(y_test, y_pred_knn))\n",
        "\n",
        "  cm = confusion_matrix(y_test, y_pred_knn)\n",
        "  print(\"Confusion Matrix:\\n\", cm)\n",
        "\n",
        "\n",
        "\n",
        "  # SUPPORT VECTOR MACHINE\n",
        "  print(\"\\n\\n\\n -------------------- SUPPORT VECTOR MACHINE --------------------\")\n",
        "  svm_estimator = SVC()\n",
        "  svm_param_grid = {'C': [0.1, 0.5, 1, 5, 10, 15], 'kernel': ['linear', 'rbf', 'poly'], 'gamma': ['scale', 'auto']}\n",
        "  y_pred_svm = baseline_model(splits, svm_estimator, svm_param_grid)\n",
        "\n",
        "  print(\"Classification Report Using SVM:\")\n",
        "  print(classification_report(y_test, y_pred_svm))\n",
        "\n",
        "  cm = confusion_matrix(y_test, y_pred_svm)\n",
        "  print(\"Confusion Matrix:\\n\", cm)\n",
        "\n",
        "\n",
        "\n",
        "  # LOGISTIC REGRESSION\n",
        "  print(\"\\n\\n\\n -------------------- LOGISTIC REGRESSION --------------------\")\n",
        "  log_estimator = LogisticRegression()\n",
        "  log_param_grid = {'C': [0.1, 0.5, 1, 5, 10, 15], 'penalty': ['l1', 'l2'], 'solver': ['liblinear', 'saga']}\n",
        "  y_pred_log = baseline_model(splits, log_estimator, log_param_grid)\n",
        "\n",
        "  print(\"Classification Report Using Logistic Regression:\")\n",
        "  print(classification_report(y_test, y_pred_log))\n",
        "\n",
        "  cm = confusion_matrix(y_test, y_pred_log)\n",
        "  print(\"Confusion Matrix:\\n\", cm)\n",
        "\n",
        "\n",
        "\n",
        "  # DECISION TREE CLASSIFIER\n",
        "  print(\"\\n\\n\\n -------------------- DECISION TREE CLASSIFIER --------------------\")\n",
        "  tree_estimator = DecisionTreeClassifier()\n",
        "  tree_param_grid = {'criterion': ['gini', 'entropy'], 'max_depth': [None, 5, 10], 'min_samples_split': [2, 5, 10]}\n",
        "  y_pred_tree = baseline_model(splits, tree_estimator, tree_param_grid)\n",
        "\n",
        "  print(\"Classification Report Using Decision Tree Classifier:\")\n",
        "  print(classification_report(y_test, y_pred_tree))\n",
        "\n",
        "  cm = confusion_matrix(y_test, y_pred_tree)\n",
        "  print(\"Confusion Matrix:\\n\", cm)\n",
        "\n",
        "\n",
        "\n",
        "  # RANDOM FORREST CLASSIFIER\n",
        "  print(\"\\n\\n -------------------- RANDOM FOREST CLASSIFIER --------------------\")\n",
        "  for_estimator = RandomForestClassifier()\n",
        "  for_param_grid = {'n_estimators': [100, 200, 300], 'max_depth': [None, 5, 10], 'min_samples_split': [2, 5, 10]}\n",
        "  y_pred_for = baseline_model(splits, for_estimator, for_param_grid)\n",
        "\n",
        "  print(\"Classification Report Using Random Forest Classifier:\")\n",
        "  print(classification_report(y_test, y_pred_for))\n",
        "\n",
        "  cm = confusion_matrix(y_test, y_pred_for)\n",
        "  print(\"Confusion Matrix:\\n\", cm)"
      ],
      "metadata": {
        "id": "2IUshFQiPs_P"
      },
      "execution_count": null,
      "outputs": []
    },
    {
      "cell_type": "code",
      "source": [
        "baseline_main()"
      ],
      "metadata": {
        "colab": {
          "base_uri": "https://localhost:8080/",
          "height": 1000
        },
        "id": "0k6Qbx4vQ2iR",
        "outputId": "9c9ee65a-bbd0-41f4-abc1-48b5f2941abc"
      },
      "execution_count": null,
      "outputs": [
        {
          "output_type": "stream",
          "name": "stdout",
          "text": [
            "\n",
            " Boxplots of Continuous Data before Pre-Processing:\n"
          ]
        },
        {
          "output_type": "display_data",
          "data": {
            "text/plain": [
              "<Figure size 1200x300 with 3 Axes>"
            ],
            "image/png": "[encoded data removed]"
          },
          "metadata": {}
        },
        {
          "output_type": "stream",
          "name": "stdout",
          "text": [
            "\n",
            " Boxplots of Continuous Data after Fixing Outliers:\n"
          ]
        },
        {
          "output_type": "display_data",
          "data": {
            "text/plain": [
              "<Figure size 1200x300 with 3 Axes>"
            ],
            "image/png": "[encoded data removed]"
          },
          "metadata": {}
        },
        {
          "output_type": "stream",
          "name": "stdout",
          "text": [
            "\n",
            "\n",
            "The dimension of X_train is (1477, 3)\n",
            "The dimension of X_test is (634, 3)\n",
            "\n",
            "\n",
            "\n",
            " -------------------- KNN CLASSIFIER --------------------\n",
            "\n",
            "Best Parameters: {'n_neighbors': 2}\n",
            "\n",
            "\n",
            "The train score for the best KNN model is 0.9085985104942451\n",
            "The test score for the best KNN model is 0.8091482649842271\n",
            "\n",
            "Classification Report Using KNN:\n",
            "              precision    recall  f1-score   support\n",
            "\n",
            "           0       0.83      0.95      0.88       477\n",
            "           1       0.70      0.39      0.51       157\n",
            "\n",
            "    accuracy                           0.81       634\n",
            "   macro avg       0.77      0.67      0.69       634\n",
            "weighted avg       0.80      0.81      0.79       634\n",
            "\n",
            "Confusion Matrix:\n",
            " [[451  26]\n",
            " [ 95  62]]\n",
            "\n",
            "\n",
            "\n",
            " -------------------- SUPPORT VECTOR MACHINE --------------------\n",
            "\n",
            "Best Parameters: {'C': 15, 'gamma': 'scale', 'kernel': 'rbf'}\n",
            "\n",
            "\n",
            "The train score for the best KNN model is 0.8104265402843602\n",
            "The test score for the best KNN model is 0.8296529968454258\n",
            "\n",
            "Classification Report Using SVM:\n",
            "              precision    recall  f1-score   support\n",
            "\n",
            "           0       0.83      0.97      0.90       477\n",
            "           1       0.80      0.41      0.55       157\n",
            "\n",
            "    accuracy                           0.83       634\n",
            "   macro avg       0.82      0.69      0.72       634\n",
            "weighted avg       0.83      0.83      0.81       634\n",
            "\n",
            "Confusion Matrix:\n",
            " [[461  16]\n",
            " [ 92  65]]\n",
            "\n",
            "\n",
            "\n",
            " -------------------- LOGISTIC REGRESSION --------------------\n",
            "\n",
            "Best Parameters: {'C': 0.1, 'penalty': 'l2', 'solver': 'liblinear'}\n",
            "\n",
            "\n",
            "The train score for the best KNN model is 0.7833446174678402\n",
            "The test score for the best KNN model is 0.8012618296529969\n",
            "\n",
            "Classification Report Using Logistic Regression:\n",
            "              precision    recall  f1-score   support\n",
            "\n",
            "           0       0.82      0.94      0.88       477\n",
            "           1       0.67      0.38      0.49       157\n",
            "\n",
            "    accuracy                           0.80       634\n",
            "   macro avg       0.75      0.66      0.68       634\n",
            "weighted avg       0.79      0.80      0.78       634\n",
            "\n",
            "Confusion Matrix:\n",
            " [[448  29]\n",
            " [ 97  60]]\n",
            "\n",
            "\n",
            "\n",
            " -------------------- DECISION TREE CLASSIFIER --------------------\n",
            "\n",
            "Best Parameters: {'criterion': 'entropy', 'max_depth': None, 'min_samples_split': 2}\n",
            "\n",
            "\n",
            "The train score for the best KNN model is 1.0\n",
            "The test score for the best KNN model is 0.8154574132492114\n",
            "\n",
            "Classification Report Using Decision Tree Classifier:\n",
            "              precision    recall  f1-score   support\n",
            "\n",
            "           0       0.88      0.88      0.88       477\n",
            "           1       0.63      0.63      0.63       157\n",
            "\n",
            "    accuracy                           0.82       634\n",
            "   macro avg       0.75      0.75      0.75       634\n",
            "weighted avg       0.82      0.82      0.82       634\n",
            "\n",
            "Confusion Matrix:\n",
            " [[418  59]\n",
            " [ 58  99]]\n",
            "\n",
            "\n",
            " -------------------- RANDOM FOREST CLASSIFIER --------------------\n",
            "\n",
            "Best Parameters: {'max_depth': None, 'min_samples_split': 5, 'n_estimators': 200}\n",
            "\n",
            "\n",
            "The train score for the best KNN model is 0.991875423155044\n",
            "The test score for the best KNN model is 0.8580441640378549\n",
            "\n",
            "Classification Report Using Random Forest Classifier:\n",
            "              precision    recall  f1-score   support\n",
            "\n",
            "           0       0.88      0.94      0.91       477\n",
            "           1       0.76      0.62      0.69       157\n",
            "\n",
            "    accuracy                           0.86       634\n",
            "   macro avg       0.82      0.78      0.80       634\n",
            "weighted avg       0.85      0.86      0.85       634\n",
            "\n",
            "Confusion Matrix:\n",
            " [[446  31]\n",
            " [ 59  98]]\n"
          ]
        }
      ]
    },
    {
      "cell_type": "markdown",
      "metadata": {
        "id": "rSlRkuXGcAut"
      },
      "source": [
        "## **Analysis with CI Solutions**"
      ]
    },
    {
      "cell_type": "markdown",
      "metadata": {
        "id": "GK09cmWwK_fV"
      },
      "source": [
        "### SMOTE"
      ]
    },
    {
      "cell_type": "code",
      "execution_count": 14,
      "metadata": {
        "id": "S2kIHfOCK_Fq"
      },
      "outputs": [],
      "source": [
        "def smote_balancing(df, attributes, target):\n",
        "\n",
        "  print(\"Class Distribution before SMOTE:\")\n",
        "  print(df[target].value_counts())\n",
        "\n",
        "  # Apply SMOTE to balance the dataset\n",
        "  smote = SMOTE(random_state=42)\n",
        "  X_resampled, y_resampled = smote.fit_resample(df[attributes], df[target])\n",
        "\n",
        "  # Convert resampled data back to DataFrame\n",
        "  df_resampled = pd.concat([X_resampled, y_resampled], axis=1)\n",
        "\n",
        "  # Check class distribution after SMOTE\n",
        "  print(\"\\nClass Distribution after SMOTE:\")\n",
        "  print(df_resampled[target].value_counts())\n",
        "\n",
        "  file_path = '/content/Dataset 3 - Obesity - SMOTE Balanced.csv'\n",
        "\n",
        "  # Save the DataFrame to a CSV file\n",
        "  df_resampled.to_csv(file_path, index=False)\n",
        "  files.download('Dataset 3 - Obesity - SMOTE Balanced.csv')\n",
        "\n",
        "  return df_resampled"
      ]
    },
    {
      "cell_type": "code",
      "source": [
        "def smote_model(splits, estimator, param_grid):\n",
        "\n",
        "  X_train, X_test, y_train, y_test = splits\n",
        "\n",
        "  # Create GridSearchCV object with stratified cross-validation\n",
        "  stratified_cv = StratifiedKFold(n_splits=5, shuffle=True, random_state=39)\n",
        "  grid_search = GridSearchCV(estimator=estimator, param_grid=param_grid, cv=stratified_cv, scoring='accuracy')\n",
        "\n",
        "  # Fit GridSearchCV to training data after scaling\n",
        "  grid_search.fit(X_train, y_train)\n",
        "\n",
        "  best_params = grid_search.best_params_\n",
        "  print(\"\\nBest Parameters:\", best_params)\n",
        "  print(\"\\n\")\n",
        "  # Access best model and hyperparameters\n",
        "  best_model = grid_search.best_estimator_\n",
        "\n",
        "  train_score = best_model.score(X_train,y_train)\n",
        "  test_score = best_model.score(X_test,y_test)\n",
        "\n",
        "  print(\"The train score for the best KNN model is {}\".format(train_score))\n",
        "  print(\"The test score for the best KNN model is {}\\n\".format(test_score))\n",
        "\n",
        "  y_pred = best_model.predict(X_test)\n",
        "\n",
        "  return y_pred"
      ],
      "metadata": {
        "id": "SCgCf1ZpEw7E"
      },
      "execution_count": 15,
      "outputs": []
    },
    {
      "cell_type": "code",
      "source": [
        "def smote_main():\n",
        "  df, continuous, categorical, target = data_preprocessing()\n",
        "  df_resampled = smote_balancing(df, continuous+categorical, target)\n",
        "  X, y = data_processing(df_resampled, continuous, categorical, target)\n",
        "  X_train, X_test, y_train, y_test = split_data(X, y)\n",
        "\n",
        "  splits = [X_train, X_test, y_train, y_test]\n",
        "\n",
        "\n",
        "\n",
        "  # KNN CLASSIFIER\n",
        "  print(\"\\n\\n\\n -------------------- KNN CLASSIFIER --------------------\")\n",
        "  knn_estimator = KNeighborsClassifier()\n",
        "  knn_param_grid = {'n_neighbors': [x for x in range(1,21)]}\n",
        "  y_pred_knn = smote_model(splits, knn_estimator, knn_param_grid)\n",
        "\n",
        "  print(\"Classification Report Using KNN:\")\n",
        "  print(classification_report(y_test, y_pred_knn))\n",
        "\n",
        "  cm = confusion_matrix(y_test, y_pred_knn)\n",
        "  print(\"Confusion Matrix:\\n\", cm)\n",
        "\n",
        "\n",
        "\n",
        "  # SUPPORT VECTOR MACHINE\n",
        "  print(\"\\n\\n\\n -------------------- SUPPORT VECTOR MACHINE --------------------\")\n",
        "  svm_estimator = SVC()\n",
        "  svm_param_grid = {'C': [0.1, 0.5, 1, 5, 10, 15], 'kernel': ['linear', 'rbf', 'poly'], 'gamma': ['scale', 'auto']}\n",
        "  y_pred_svm = smote_model(splits, svm_estimator, svm_param_grid)\n",
        "\n",
        "  print(\"Classification Report Using SVM:\")\n",
        "  print(classification_report(y_test, y_pred_svm))\n",
        "\n",
        "  cm = confusion_matrix(y_test, y_pred_svm)\n",
        "  print(\"Confusion Matrix:\\n\", cm)\n",
        "\n",
        "\n",
        "\n",
        "  # LOGISTIC REGRESSION\n",
        "  print(\"\\n\\n\\n -------------------- LOGISTIC REGRESSION --------------------\")\n",
        "  log_estimator = LogisticRegression()\n",
        "  log_param_grid = {'C': [0.1, 0.5, 1, 5, 10, 15], 'penalty': ['l1', 'l2'], 'solver': ['liblinear', 'saga']}\n",
        "  y_pred_log = smote_model(splits, log_estimator, log_param_grid)\n",
        "\n",
        "  print(\"Classification Report Using Logistic Regression:\")\n",
        "  print(classification_report(y_test, y_pred_log))\n",
        "\n",
        "  cm = confusion_matrix(y_test, y_pred_log)\n",
        "  print(\"Confusion Matrix:\\n\", cm)\n",
        "\n",
        "\n",
        "\n",
        "  # DECISION TREE CLASSIFIER\n",
        "  print(\"\\n\\n\\n -------------------- DECISION TREE CLASSIFIER --------------------\")\n",
        "  tree_estimator = DecisionTreeClassifier()\n",
        "  tree_param_grid = {'criterion': ['gini', 'entropy'], 'max_depth': [None, 5, 10], 'min_samples_split': [2, 5, 10]}\n",
        "  y_pred_tree = smote_model(splits, tree_estimator, tree_param_grid)\n",
        "\n",
        "  print(\"Classification Report Using Decision Tree Classifier:\")\n",
        "  print(classification_report(y_test, y_pred_tree))\n",
        "\n",
        "  cm = confusion_matrix(y_test, y_pred_tree)\n",
        "  print(\"Confusion Matrix:\\n\", cm)\n",
        "\n",
        "\n",
        "\n",
        "  # RANDOM FORREST CLASSIFIER\n",
        "  print(\"\\n\\n -------------------- RANDOM FOREST CLASSIFIER --------------------\")\n",
        "  for_estimator = RandomForestClassifier()\n",
        "  for_param_grid = {'n_estimators': [100, 200, 300], 'max_depth': [None, 5, 10], 'min_samples_split': [2, 5, 10]}\n",
        "  y_pred_for = smote_model(splits, for_estimator, for_param_grid)\n",
        "\n",
        "  print(\"Classification Report Using Random Forest Classifier:\")\n",
        "  print(classification_report(y_test, y_pred_for))\n",
        "\n",
        "  cm = confusion_matrix(y_test, y_pred_for)\n",
        "  print(\"Confusion Matrix:\\n\", cm)"
      ],
      "metadata": {
        "id": "XzFro_rVDHcn"
      },
      "execution_count": 16,
      "outputs": []
    },
    {
      "cell_type": "code",
      "source": [
        "smote_main()"
      ],
      "metadata": {
        "colab": {
          "base_uri": "https://localhost:8080/",
          "height": 1000
        },
        "id": "zsn_suw8Iw-m",
        "outputId": "3f61475d-7eb1-4efa-bacf-1feaf245708d"
      },
      "execution_count": 17,
      "outputs": [
        {
          "output_type": "stream",
          "name": "stdout",
          "text": [
            "\n",
            " Boxplots of Continuous Data before Pre-Processing:\n"
          ]
        },
        {
          "output_type": "display_data",
          "data": {
            "text/plain": [
              "<Figure size 1200x300 with 3 Axes>"
            ],
            "image/png": "[encoded data removed]"
          },
          "metadata": {}
        },
        {
          "output_type": "stream",
          "name": "stdout",
          "text": [
            "\n",
            " Boxplots of Continuous Data after Fixing Outliers:\n"
          ]
        },
        {
          "output_type": "display_data",
          "data": {
            "text/plain": [
              "<Figure size 1200x300 with 3 Axes>"
            ],
            "image/png": "[encoded data removed]"
          },
          "metadata": {}
        },
        {
          "output_type": "stream",
          "name": "stdout",
          "text": [
            "Class Distribution before SMOTE:\n",
            "NObeyesdad\n",
            "0    1552\n",
            "1     559\n",
            "Name: count, dtype: int64\n",
            "\n",
            "Class Distribution after SMOTE:\n",
            "NObeyesdad\n",
            "1    1552\n",
            "0    1552\n",
            "Name: count, dtype: int64\n"
          ]
        },
        {
          "output_type": "display_data",
          "data": {
            "text/plain": [
              "<IPython.core.display.Javascript object>"
            ],
            "application/javascript": [
              "\n",
              "    async function download(id, filename, size) {\n",
              "      if (!google.colab.kernel.accessAllowed) {\n",
              "        return;\n",
              "      }\n",
              "      const div = document.createElement('div');\n",
              "      const label = document.createElement('label');\n",
              "      label.textContent = `Downloading \"${filename}\": `;\n",
              "      div.appendChild(label);\n",
              "      const progress = document.createElement('progress');\n",
              "      progress.max = size;\n",
              "      div.appendChild(progress);\n",
              "      document.body.appendChild(div);\n",
              "\n",
              "      const buffers = [];\n",
              "      let downloaded = 0;\n",
              "\n",
              "      const channel = await google.colab.kernel.comms.open(id);\n",
              "      // Send a message to notify the kernel that we're ready.\n",
              "      channel.send({})\n",
              "\n",
              "      for await (const message of channel.messages) {\n",
              "        // Send a message to notify the kernel that we're ready.\n",
              "        channel.send({})\n",
              "        if (message.buffers) {\n",
              "          for (const buffer of message.buffers) {\n",
              "            buffers.push(buffer);\n",
              "            downloaded += buffer.byteLength;\n",
              "            progress.value = downloaded;\n",
              "          }\n",
              "        }\n",
              "      }\n",
              "      const blob = new Blob(buffers, {type: 'application/binary'});\n",
              "      const a = document.createElement('a');\n",
              "      a.href = window.URL.createObjectURL(blob);\n",
              "      a.download = filename;\n",
              "      div.appendChild(a);\n",
              "      a.click();\n",
              "      div.remove();\n",
              "    }\n",
              "  "
            ]
          },
          "metadata": {}
        },
        {
          "output_type": "display_data",
          "data": {
            "text/plain": [
              "<IPython.core.display.Javascript object>"
            ],
            "application/javascript": [
              "download(\"download_203418eb-95c4-4aa7-8c3c-64965a2d1f8b\", \"Dataset 3 - Obesity - SMOTE Balanced.csv\", 779842)"
            ]
          },
          "metadata": {}
        },
        {
          "output_type": "stream",
          "name": "stdout",
          "text": [
            "\n",
            "\n",
            "The dimension of X_train is (2172, 3)\n",
            "The dimension of X_test is (932, 3)\n",
            "\n",
            "\n",
            "\n",
            " -------------------- KNN CLASSIFIER --------------------\n",
            "\n",
            "Best Parameters: {'n_neighbors': 1}\n",
            "\n",
            "\n",
            "The train score for the best KNN model is 1.0\n",
            "The test score for the best KNN model is 0.8315450643776824\n",
            "\n",
            "Classification Report Using KNN:\n",
            "              precision    recall  f1-score   support\n",
            "\n",
            "           0       0.83      0.83      0.83       465\n",
            "           1       0.83      0.84      0.83       467\n",
            "\n",
            "    accuracy                           0.83       932\n",
            "   macro avg       0.83      0.83      0.83       932\n",
            "weighted avg       0.83      0.83      0.83       932\n",
            "\n",
            "Confusion Matrix:\n",
            " [[384  81]\n",
            " [ 76 391]]\n",
            "\n",
            "\n",
            "\n",
            " -------------------- SUPPORT VECTOR MACHINE --------------------\n",
            "\n",
            "Best Parameters: {'C': 15, 'gamma': 'scale', 'kernel': 'rbf'}\n",
            "\n",
            "\n",
            "The train score for the best KNN model is 0.8278084714548803\n",
            "The test score for the best KNN model is 0.7875536480686696\n",
            "\n",
            "Classification Report Using SVM:\n",
            "              precision    recall  f1-score   support\n",
            "\n",
            "           0       0.77      0.82      0.79       465\n",
            "           1       0.81      0.76      0.78       467\n",
            "\n",
            "    accuracy                           0.79       932\n",
            "   macro avg       0.79      0.79      0.79       932\n",
            "weighted avg       0.79      0.79      0.79       932\n",
            "\n",
            "Confusion Matrix:\n",
            " [[380  85]\n",
            " [113 354]]\n",
            "\n",
            "\n",
            "\n",
            " -------------------- LOGISTIC REGRESSION --------------------\n",
            "\n",
            "Best Parameters: {'C': 0.1, 'penalty': 'l1', 'solver': 'liblinear'}\n",
            "\n",
            "\n",
            "The train score for the best KNN model is 0.7909760589318601\n",
            "The test score for the best KNN model is 0.7618025751072961\n",
            "\n",
            "Classification Report Using Logistic Regression:\n",
            "              precision    recall  f1-score   support\n",
            "\n",
            "           0       0.75      0.78      0.76       465\n",
            "           1       0.77      0.75      0.76       467\n",
            "\n",
            "    accuracy                           0.76       932\n",
            "   macro avg       0.76      0.76      0.76       932\n",
            "weighted avg       0.76      0.76      0.76       932\n",
            "\n",
            "Confusion Matrix:\n",
            " [[361 104]\n",
            " [118 349]]\n",
            "\n",
            "\n",
            "\n",
            " -------------------- DECISION TREE CLASSIFIER --------------------\n",
            "\n",
            "Best Parameters: {'criterion': 'entropy', 'max_depth': None, 'min_samples_split': 2}\n",
            "\n",
            "\n",
            "The train score for the best KNN model is 1.0\n",
            "The test score for the best KNN model is 0.8315450643776824\n",
            "\n",
            "Classification Report Using Decision Tree Classifier:\n",
            "              precision    recall  f1-score   support\n",
            "\n",
            "           0       0.84      0.82      0.83       465\n",
            "           1       0.82      0.85      0.83       467\n",
            "\n",
            "    accuracy                           0.83       932\n",
            "   macro avg       0.83      0.83      0.83       932\n",
            "weighted avg       0.83      0.83      0.83       932\n",
            "\n",
            "Confusion Matrix:\n",
            " [[379  86]\n",
            " [ 71 396]]\n",
            "\n",
            "\n",
            " -------------------- RANDOM FOREST CLASSIFIER --------------------\n",
            "\n",
            "Best Parameters: {'max_depth': None, 'min_samples_split': 5, 'n_estimators': 100}\n",
            "\n",
            "\n",
            "The train score for the best KNN model is 0.9912523020257827\n",
            "The test score for the best KNN model is 0.8508583690987125\n",
            "\n",
            "Classification Report Using Random Forest Classifier:\n",
            "              precision    recall  f1-score   support\n",
            "\n",
            "           0       0.85      0.85      0.85       465\n",
            "           1       0.85      0.85      0.85       467\n",
            "\n",
            "    accuracy                           0.85       932\n",
            "   macro avg       0.85      0.85      0.85       932\n",
            "weighted avg       0.85      0.85      0.85       932\n",
            "\n",
            "Confusion Matrix:\n",
            " [[394  71]\n",
            " [ 68 399]]\n"
          ]
        }
      ]
    },
    {
      "cell_type": "markdown",
      "metadata": {
        "id": "t-Q8aDXV9m4-"
      },
      "source": [
        "### Weighting Method\n"
      ]
    },
    {
      "cell_type": "code",
      "source": [
        "def weight_model(splits, sample_weights, estimator, param_grid):\n",
        "\n",
        "  stratified_cv = StratifiedKFold(n_splits=5, shuffle=True, random_state=39)\n",
        "  grid_search = GridSearchCV(estimator=estimator, param_grid=param_grid, cv=stratified_cv, scoring='accuracy')\n",
        "\n",
        "  X_train, X_test, y_train, y_test = splits\n",
        "\n",
        "  # Fit GridSearchCV to training data after scaling\n",
        "#  print(len(sample_weights))\n",
        "  if(len(sample_weights)==0):\n",
        "    grid_search.fit(X_train, y_train)\n",
        "  else:\n",
        "    grid_search.fit(X_train, y_train, sample_weight=sample_weights)\n",
        "\n",
        "  best_params = grid_search.best_params_\n",
        "  print(\"\\nBest Parameters:\", best_params)\n",
        "  print(\"\\n\")\n",
        "  # Access best model and hyperparameters\n",
        "  best_model = grid_search.best_estimator_\n",
        "\n",
        "  y_pred = best_model.predict(X_test)\n",
        "\n",
        "  train_score = best_model.score(X_train,y_train)\n",
        "  test_score = best_model.score(X_test,y_test)\n",
        "\n",
        "  print(\"The train score for the best KNN model is {}\".format(train_score))\n",
        "  print(\"The test score for the best KNN model is {}\\n\".format(test_score))\n",
        "\n",
        "  return y_pred"
      ],
      "metadata": {
        "id": "5Lc6jZD4f_rS"
      },
      "execution_count": null,
      "outputs": []
    },
    {
      "cell_type": "code",
      "source": [
        "def weight_main():\n",
        "  df, continuous, categorical, target = data_preprocessing()\n",
        "  [X, y] = data_processing(df, continuous, categorical, target)\n",
        "  X_train, X_test, y_train, y_test = split_data(X, y)\n",
        "\n",
        "  # Compute distances for each data point\n",
        "  distances = euclidean_distances(X_train)\n",
        "\n",
        "  # Compute sample weights based on distances (inverse distance weighting)\n",
        "  sample_weights = 1 / (np.sum(distances, axis=1) + 1e-6)  # Adding a small value to avoid division by zero\n",
        "\n",
        "  splits = [X_train, X_test, y_train, y_test]\n",
        "\n",
        "\n",
        "\n",
        "  # KNN CLASSIFIER\n",
        "  print(\"\\n\\n\\n -------------------- KNN CLASSIFIER --------------------\")\n",
        "  knn_estimator = KNeighborsClassifier()\n",
        "  knn_param_grid = {'n_neighbors': [x for x in range(1,21)], 'weights': ['distance']}\n",
        "  y_pred_knn = weight_model(splits, [], knn_estimator, knn_param_grid)\n",
        "\n",
        "  print(\"Classification Report Using KNN:\")\n",
        "  print(classification_report(y_test, y_pred_knn))\n",
        "\n",
        "  cm = confusion_matrix(y_test, y_pred_knn)\n",
        "  print(\"Confusion Matrix:\\n\", cm)\n",
        "\n",
        "\n",
        "\n",
        "  # SUPPORT VECTOR MACHINE\n",
        "  print(\"\\n\\n\\n -------------------- SUPPORT VECTOR MACHINE --------------------\")\n",
        "  svm_estimator = SVC()\n",
        "  svm_param_grid = {'C': [0.1, 0.5, 1, 5, 10, 15], 'kernel': ['linear', 'rbf', 'poly'], 'gamma': ['scale', 'auto']}\n",
        "  y_pred_svm = weight_model(splits, sample_weights, svm_estimator, svm_param_grid)\n",
        "\n",
        "  print(\"Classification Report Using SVM:\")\n",
        "  print(classification_report(y_test, y_pred_svm))\n",
        "\n",
        "  cm = confusion_matrix(y_test, y_pred_svm)\n",
        "  print(\"Confusion Matrix:\\n\", cm)\n",
        "\n",
        "\n",
        "\n",
        "  # LOGISTIC REGRESSION\n",
        "  print(\"\\n\\n\\n -------------------- LOGISTIC REGRESSION --------------------\")\n",
        "  log_estimator = LogisticRegression()\n",
        "  log_param_grid = {'C': [0.1, 0.5, 1, 5, 10, 15], 'penalty': ['l1', 'l2'], 'solver': ['liblinear', 'saga']}\n",
        "  y_pred_log = weight_model(splits, sample_weights, log_estimator, log_param_grid)\n",
        "\n",
        "  print(\"Classification Report Using Logistic Regression:\")\n",
        "  print(classification_report(y_test, y_pred_log))\n",
        "\n",
        "  cm = confusion_matrix(y_test, y_pred_log)\n",
        "  print(\"Confusion Matrix:\\n\", cm)\n",
        "\n",
        "\n",
        "\n",
        "  # DECISION TREE CLASSIFIER\n",
        "  print(\"\\n\\n\\n -------------------- DECISION TREE CLASSIFIER --------------------\")\n",
        "  tree_estimator = DecisionTreeClassifier()\n",
        "  tree_param_grid = {'criterion': ['gini', 'entropy'], 'max_depth': [None, 5, 10], 'min_samples_split': [2, 5, 10]}\n",
        "  y_pred_tree = weight_model(splits, sample_weights, tree_estimator, tree_param_grid)\n",
        "\n",
        "  print(\"Classification Report Using Decision Tree Classifier:\")\n",
        "  print(classification_report(y_test, y_pred_tree))\n",
        "\n",
        "  cm = confusion_matrix(y_test, y_pred_tree)\n",
        "  print(\"Confusion Matrix:\\n\", cm)\n",
        "\n",
        "\n",
        "\n",
        "  # RANDOM FORREST CLASSIFIER\n",
        "  print(\"\\n\\n -------------------- RANDOM FOREST CLASSIFIER --------------------\")\n",
        "  for_estimator = RandomForestClassifier()\n",
        "  for_param_grid = {'n_estimators': [100, 200, 300], 'max_depth': [None, 5, 10], 'min_samples_split': [2, 5, 10]}\n",
        "  y_pred_for = weight_model(splits, sample_weights, for_estimator, for_param_grid)\n",
        "\n",
        "  print(\"Classification Report Using Random Forest Classifier:\")\n",
        "  print(classification_report(y_test, y_pred_for))\n",
        "\n",
        "  cm = confusion_matrix(y_test, y_pred_for)\n",
        "  print(\"Confusion Matrix:\\n\", cm)\n"
      ],
      "metadata": {
        "id": "vCq9-hR3zKE3"
      },
      "execution_count": null,
      "outputs": []
    },
    {
      "cell_type": "code",
      "source": [
        "weight_main()"
      ],
      "metadata": {
        "colab": {
          "base_uri": "https://localhost:8080/",
          "height": 1000
        },
        "id": "Xx3XbuBj9wXE",
        "outputId": "e70cf320-e5a4-440a-dee8-55f05b40b14e"
      },
      "execution_count": null,
      "outputs": [
        {
          "output_type": "stream",
          "name": "stdout",
          "text": [
            "\n",
            " Boxplots of Continuous Data before Pre-Processing:\n"
          ]
        },
        {
          "output_type": "display_data",
          "data": {
            "text/plain": [
              "<Figure size 1200x300 with 3 Axes>"
            ],
            "image/png": "[encoded data removed]"
          },
          "metadata": {}
        },
        {
          "output_type": "stream",
          "name": "stdout",
          "text": [
            "\n",
            " Boxplots of Continuous Data after Fixing Outliers:\n"
          ]
        },
        {
          "output_type": "display_data",
          "data": {
            "text/plain": [
              "<Figure size 1200x300 with 3 Axes>"
            ],
            "image/png": "[encoded data removed]"
          },
          "metadata": {}
        },
        {
          "output_type": "stream",
          "name": "stdout",
          "text": [
            "\n",
            "\n",
            "The dimension of X_train is (1477, 3)\n",
            "The dimension of X_test is (634, 3)\n",
            "\n",
            "\n",
            "\n",
            " -------------------- KNN CLASSIFIER --------------------\n",
            "\n",
            "Best Parameters: {'n_neighbors': 18, 'weights': 'distance'}\n",
            "\n",
            "\n",
            "The train score for the best KNN model is 1.0\n",
            "The test score for the best KNN model is 0.8501577287066246\n",
            "\n",
            "Classification Report Using KNN:\n",
            "              precision    recall  f1-score   support\n",
            "\n",
            "           0       0.88      0.93      0.90       477\n",
            "           1       0.74      0.61      0.67       157\n",
            "\n",
            "    accuracy                           0.85       634\n",
            "   macro avg       0.81      0.77      0.79       634\n",
            "weighted avg       0.84      0.85      0.85       634\n",
            "\n",
            "Confusion Matrix:\n",
            " [[443  34]\n",
            " [ 61  96]]\n",
            "\n",
            "\n",
            "\n",
            " -------------------- SUPPORT VECTOR MACHINE --------------------\n",
            "\n",
            "Best Parameters: {'C': 15, 'gamma': 'scale', 'kernel': 'poly'}\n",
            "\n",
            "\n",
            "The train score for the best KNN model is 0.7603249830737983\n",
            "The test score for the best KNN model is 0.7823343848580442\n",
            "\n",
            "Classification Report Using SVM:\n",
            "              precision    recall  f1-score   support\n",
            "\n",
            "           0       0.78      1.00      0.87       477\n",
            "           1       0.95      0.13      0.22       157\n",
            "\n",
            "    accuracy                           0.78       634\n",
            "   macro avg       0.86      0.56      0.55       634\n",
            "weighted avg       0.82      0.78      0.71       634\n",
            "\n",
            "Confusion Matrix:\n",
            " [[476   1]\n",
            " [137  20]]\n",
            "\n",
            "\n",
            "\n",
            " -------------------- LOGISTIC REGRESSION --------------------\n"
          ]
        },
        {
          "output_type": "stream",
          "name": "stderr",
          "text": [
            "/usr/local/lib/python3.10/dist-packages/sklearn/linear_model/_sag.py:350: ConvergenceWarning: The max_iter was reached which means the coef_ did not converge\n",
            "  warnings.warn(\n",
            "/usr/local/lib/python3.10/dist-packages/sklearn/linear_model/_sag.py:350: ConvergenceWarning: The max_iter was reached which means the coef_ did not converge\n",
            "  warnings.warn(\n",
            "/usr/local/lib/python3.10/dist-packages/sklearn/linear_model/_sag.py:350: ConvergenceWarning: The max_iter was reached which means the coef_ did not converge\n",
            "  warnings.warn(\n",
            "/usr/local/lib/python3.10/dist-packages/sklearn/linear_model/_sag.py:350: ConvergenceWarning: The max_iter was reached which means the coef_ did not converge\n",
            "  warnings.warn(\n",
            "/usr/local/lib/python3.10/dist-packages/sklearn/linear_model/_sag.py:350: ConvergenceWarning: The max_iter was reached which means the coef_ did not converge\n",
            "  warnings.warn(\n",
            "/usr/local/lib/python3.10/dist-packages/sklearn/linear_model/_sag.py:350: ConvergenceWarning: The max_iter was reached which means the coef_ did not converge\n",
            "  warnings.warn(\n",
            "/usr/local/lib/python3.10/dist-packages/sklearn/linear_model/_sag.py:350: ConvergenceWarning: The max_iter was reached which means the coef_ did not converge\n",
            "  warnings.warn(\n",
            "/usr/local/lib/python3.10/dist-packages/sklearn/linear_model/_sag.py:350: ConvergenceWarning: The max_iter was reached which means the coef_ did not converge\n",
            "  warnings.warn(\n",
            "/usr/local/lib/python3.10/dist-packages/sklearn/linear_model/_sag.py:350: ConvergenceWarning: The max_iter was reached which means the coef_ did not converge\n",
            "  warnings.warn(\n",
            "/usr/local/lib/python3.10/dist-packages/sklearn/linear_model/_sag.py:350: ConvergenceWarning: The max_iter was reached which means the coef_ did not converge\n",
            "  warnings.warn(\n",
            "/usr/local/lib/python3.10/dist-packages/sklearn/linear_model/_sag.py:350: ConvergenceWarning: The max_iter was reached which means the coef_ did not converge\n",
            "  warnings.warn(\n",
            "/usr/local/lib/python3.10/dist-packages/sklearn/linear_model/_sag.py:350: ConvergenceWarning: The max_iter was reached which means the coef_ did not converge\n",
            "  warnings.warn(\n",
            "/usr/local/lib/python3.10/dist-packages/sklearn/linear_model/_sag.py:350: ConvergenceWarning: The max_iter was reached which means the coef_ did not converge\n",
            "  warnings.warn(\n",
            "/usr/local/lib/python3.10/dist-packages/sklearn/linear_model/_sag.py:350: ConvergenceWarning: The max_iter was reached which means the coef_ did not converge\n",
            "  warnings.warn(\n",
            "/usr/local/lib/python3.10/dist-packages/sklearn/linear_model/_sag.py:350: ConvergenceWarning: The max_iter was reached which means the coef_ did not converge\n",
            "  warnings.warn(\n",
            "/usr/local/lib/python3.10/dist-packages/sklearn/linear_model/_sag.py:350: ConvergenceWarning: The max_iter was reached which means the coef_ did not converge\n",
            "  warnings.warn(\n",
            "/usr/local/lib/python3.10/dist-packages/sklearn/linear_model/_sag.py:350: ConvergenceWarning: The max_iter was reached which means the coef_ did not converge\n",
            "  warnings.warn(\n",
            "/usr/local/lib/python3.10/dist-packages/sklearn/linear_model/_sag.py:350: ConvergenceWarning: The max_iter was reached which means the coef_ did not converge\n",
            "  warnings.warn(\n",
            "/usr/local/lib/python3.10/dist-packages/sklearn/linear_model/_sag.py:350: ConvergenceWarning: The max_iter was reached which means the coef_ did not converge\n",
            "  warnings.warn(\n",
            "/usr/local/lib/python3.10/dist-packages/sklearn/linear_model/_sag.py:350: ConvergenceWarning: The max_iter was reached which means the coef_ did not converge\n",
            "  warnings.warn(\n",
            "/usr/local/lib/python3.10/dist-packages/sklearn/linear_model/_sag.py:350: ConvergenceWarning: The max_iter was reached which means the coef_ did not converge\n",
            "  warnings.warn(\n",
            "/usr/local/lib/python3.10/dist-packages/sklearn/linear_model/_sag.py:350: ConvergenceWarning: The max_iter was reached which means the coef_ did not converge\n",
            "  warnings.warn(\n",
            "/usr/local/lib/python3.10/dist-packages/sklearn/linear_model/_sag.py:350: ConvergenceWarning: The max_iter was reached which means the coef_ did not converge\n",
            "  warnings.warn(\n",
            "/usr/local/lib/python3.10/dist-packages/sklearn/linear_model/_sag.py:350: ConvergenceWarning: The max_iter was reached which means the coef_ did not converge\n",
            "  warnings.warn(\n",
            "/usr/local/lib/python3.10/dist-packages/sklearn/linear_model/_sag.py:350: ConvergenceWarning: The max_iter was reached which means the coef_ did not converge\n",
            "  warnings.warn(\n",
            "/usr/local/lib/python3.10/dist-packages/sklearn/linear_model/_sag.py:350: ConvergenceWarning: The max_iter was reached which means the coef_ did not converge\n",
            "  warnings.warn(\n",
            "/usr/local/lib/python3.10/dist-packages/sklearn/linear_model/_sag.py:350: ConvergenceWarning: The max_iter was reached which means the coef_ did not converge\n",
            "  warnings.warn(\n",
            "/usr/local/lib/python3.10/dist-packages/sklearn/linear_model/_sag.py:350: ConvergenceWarning: The max_iter was reached which means the coef_ did not converge\n",
            "  warnings.warn(\n"
          ]
        },
        {
          "output_type": "stream",
          "name": "stdout",
          "text": [
            "\n",
            "Best Parameters: {'C': 15, 'penalty': 'l2', 'solver': 'liblinear'}\n",
            "\n",
            "\n",
            "The train score for the best KNN model is 0.7752200406228842\n",
            "The test score for the best KNN model is 0.7902208201892744\n",
            "\n",
            "Classification Report Using Logistic Regression:\n",
            "              precision    recall  f1-score   support\n",
            "\n",
            "           0       0.79      0.97      0.87       477\n",
            "           1       0.74      0.24      0.36       157\n",
            "\n",
            "    accuracy                           0.79       634\n",
            "   macro avg       0.77      0.60      0.62       634\n",
            "weighted avg       0.78      0.79      0.75       634\n",
            "\n",
            "Confusion Matrix:\n",
            " [[464  13]\n",
            " [120  37]]\n",
            "\n",
            "\n",
            "\n",
            " -------------------- DECISION TREE CLASSIFIER --------------------\n",
            "\n",
            "Best Parameters: {'criterion': 'entropy', 'max_depth': 10, 'min_samples_split': 2}\n",
            "\n",
            "\n",
            "The train score for the best KNN model is 0.9248476641841571\n",
            "The test score for the best KNN model is 0.8186119873817035\n",
            "\n",
            "Classification Report Using Decision Tree Classifier:\n",
            "              precision    recall  f1-score   support\n",
            "\n",
            "           0       0.87      0.89      0.88       477\n",
            "           1       0.65      0.59      0.62       157\n",
            "\n",
            "    accuracy                           0.82       634\n",
            "   macro avg       0.76      0.74      0.75       634\n",
            "weighted avg       0.81      0.82      0.82       634\n",
            "\n",
            "Confusion Matrix:\n",
            " [[426  51]\n",
            " [ 64  93]]\n",
            "\n",
            "\n",
            " -------------------- RANDOM FOREST CLASSIFIER --------------------\n",
            "\n",
            "Best Parameters: {'max_depth': None, 'min_samples_split': 2, 'n_estimators': 200}\n",
            "\n",
            "\n",
            "The train score for the best KNN model is 1.0\n",
            "The test score for the best KNN model is 0.8517350157728707\n",
            "\n",
            "Classification Report Using Random Forest Classifier:\n",
            "              precision    recall  f1-score   support\n",
            "\n",
            "           0       0.88      0.93      0.90       477\n",
            "           1       0.74      0.62      0.67       157\n",
            "\n",
            "    accuracy                           0.85       634\n",
            "   macro avg       0.81      0.77      0.79       634\n",
            "weighted avg       0.85      0.85      0.85       634\n",
            "\n",
            "Confusion Matrix:\n",
            " [[443  34]\n",
            " [ 60  97]]\n"
          ]
        }
      ]
    },
    {
      "cell_type": "markdown",
      "metadata": {
        "id": "ZWrpg64VPLb9"
      },
      "source": [
        "### One Class Learning"
      ]
    },
    {
      "cell_type": "code",
      "execution_count": null,
      "metadata": {
        "id": "tZZ1fSjtPKr8"
      },
      "outputs": [],
      "source": [
        "def oneclass_main():\n",
        "  df, continuous, categorical, target = data_preprocessing()\n",
        "  X, y = data_processing(df, continuous, categorical, target)\n",
        "\n",
        "  X_majority = X[y == 0]\n",
        "  X_minority = X[y == 1]\n",
        "\n",
        "  print(\"Number of majority class samples:\", len(X_majority))\n",
        "  print(\"Number of minority class samples:\", len(X_minority))\n",
        "\n",
        "\n",
        "\n",
        "  # LOCAL OUTLIER FACTOR (UNDERLYING KNN)\n",
        "  print(\"\\n\\n\\n -------------------- LOCAL OUTLIER FACTOR (UNDERLYING KNN) --------------------\")\n",
        "  # Fit the Local Outlier Factor model to the majority class\n",
        "  lof = LocalOutlierFactor(n_neighbors=20, contamination=0.05)\n",
        "  y_pred_lof = lof.fit_predict(X)\n",
        "\n",
        "  # Convert -1 to 1 (minority) and 1 to 0 (majority) for compatibility with y\n",
        "  y_pred_lof = np.where(y_pred_lof == 1, 0, 1)\n",
        "\n",
        "  print(\"\\nClassification Report for Local Outlier Factor:\")\n",
        "  print(classification_report(y, y_pred_lof))\n",
        "\n",
        "  cm = confusion_matrix(y, y_pred_lof)\n",
        "  print(\"Confusion Matrix:\\n\", cm)\n",
        "\n",
        "\n",
        "\n",
        "  # ONE-CLASS SVM (UNDERLYING SVM)\n",
        "  print(\"\\n\\n\\n -------------------- ONE-CLASS SVM (UNDERLYING SVM) --------------------\")\n",
        "  # Fit the One-Class SVM model to the majority class\n",
        "  oc_svm = OneClassSVM(kernel='rbf', gamma='auto', nu=0.05)\n",
        "  oc_svm.fit(X_majority)\n",
        "\n",
        "  # Predict on the entire dataset\n",
        "  y_pred_svm = oc_svm.predict(X)\n",
        "\n",
        "  # -1 indicates an outlier, 1 indicates an inlier\n",
        "  # Convert -1 to 1 (minority) and 1 to 0 (majority) for compatibility with y\n",
        "  y_pred_svm = np.where(y_pred_svm == 1, 0, 1)\n",
        "\n",
        "  print(\"\\nClassification Report for One-Class SVM:\")\n",
        "  print(classification_report(y, y_pred_svm))\n",
        "\n",
        "  cm = confusion_matrix(y, y_pred_svm)\n",
        "  print(\"Confusion Matrix:\\n\", cm)\n",
        "\n",
        "\n",
        "\n",
        "  # ISOLATION FOREST (UNDERLYING RANDOM FOREST)\n",
        "  print(\"\\n\\n\\n -------------------- ISOLATION FOREST (UNDERLYING RANDOM FOREST) --------------------\")\n",
        "  # Fit the Isolation Forest model to the majority class\n",
        "  iso_forest = IsolationForest(n_estimators=100, max_samples='auto', contamination=0.05, random_state=42)\n",
        "  iso_forest.fit(X_majority)\n",
        "\n",
        "  # Predict on the entire dataset\n",
        "  y_pred_iso = iso_forest.predict(X)\n",
        "\n",
        "  # -1 indicates an outlier, 1 indicates an inlier\n",
        "  # Convert -1 to 1 (minority) and 1 to 0 (majority) for compatibility with y\n",
        "  y_pred_iso = np.where(y_pred_iso == 1, 0, 1)\n",
        "\n",
        "  print(\"\\nClassification Report for Isolation Forest Model:\")\n",
        "  print(classification_report(y, y_pred_iso))\n",
        "\n",
        "  cm = confusion_matrix(y, y_pred_iso)\n",
        "  print(\"Confusion Matrix:\\n\", cm)\n"
      ]
    },
    {
      "cell_type": "code",
      "source": [
        "oneclass_main()"
      ],
      "metadata": {
        "colab": {
          "base_uri": "https://localhost:8080/",
          "height": 1000
        },
        "id": "w0Xt50WDM_J2",
        "outputId": "fb477cab-d70e-40d9-ab0d-5e428cf738a3"
      },
      "execution_count": null,
      "outputs": [
        {
          "output_type": "stream",
          "name": "stdout",
          "text": [
            "\n",
            " Boxplots of Continuous Data before Pre-Processing:\n"
          ]
        },
        {
          "output_type": "display_data",
          "data": {
            "text/plain": [
              "<Figure size 1200x300 with 3 Axes>"
            ],
            "image/png": "[encoded data removed]"
          },
          "metadata": {}
        },
        {
          "output_type": "stream",
          "name": "stdout",
          "text": [
            "\n",
            " Boxplots of Continuous Data after Fixing Outliers:\n"
          ]
        },
        {
          "output_type": "display_data",
          "data": {
            "text/plain": [
              "<Figure size 1200x300 with 3 Axes>"
            ],
            "image/png": "[encoded data removed]"
          },
          "metadata": {}
        },
        {
          "output_type": "stream",
          "name": "stdout",
          "text": [
            "\n",
            "\n",
            "Number of majority class samples: 1552\n",
            "Number of minority class samples: 559\n",
            "\n",
            "\n",
            "\n",
            " -------------------- LOCAL OUTLIER FACTOR (UNDERLYING KNN) --------------------\n",
            "\n",
            "Classification Report for Local Outlier Factor:\n",
            "              precision    recall  f1-score   support\n",
            "\n",
            "           0       0.73      0.94      0.82      1552\n",
            "           1       0.14      0.03      0.05       559\n",
            "\n",
            "    accuracy                           0.70      2111\n",
            "   macro avg       0.44      0.48      0.43      2111\n",
            "weighted avg       0.57      0.70      0.62      2111\n",
            "\n",
            "Confusion Matrix:\n",
            " [[1461   91]\n",
            " [ 544   15]]\n",
            "\n",
            "\n",
            "\n",
            " -------------------- ONE-CLASS SVM (UNDERLYING SVM) --------------------\n",
            "\n",
            "Classification Report for One-Class SVM:\n",
            "              precision    recall  f1-score   support\n",
            "\n",
            "           0       0.78      0.95      0.85      1552\n",
            "           1       0.62      0.24      0.35       559\n",
            "\n",
            "    accuracy                           0.76      2111\n",
            "   macro avg       0.70      0.59      0.60      2111\n",
            "weighted avg       0.74      0.76      0.72      2111\n",
            "\n",
            "Confusion Matrix:\n",
            " [[1470   82]\n",
            " [ 424  135]]\n",
            "\n",
            "\n",
            "\n",
            " -------------------- ISOLATION FOREST (UNDERLYING RANDOM FOREST) --------------------\n",
            "\n",
            "Classification Report for Isolation Forest Model:\n",
            "              precision    recall  f1-score   support\n",
            "\n",
            "           0       0.79      0.95      0.86      1552\n",
            "           1       0.68      0.30      0.42       559\n",
            "\n",
            "    accuracy                           0.78      2111\n",
            "   macro avg       0.74      0.63      0.64      2111\n",
            "weighted avg       0.76      0.78      0.75      2111\n",
            "\n",
            "Confusion Matrix:\n",
            " [[1474   78]\n",
            " [ 390  169]]\n"
          ]
        }
      ]
    },
    {
      "cell_type": "code",
      "source": [],
      "metadata": {
        "id": "e3eOHlvmNB29"
      },
      "execution_count": null,
      "outputs": []
    }
  ],
  "metadata": {
    "colab": {
      "collapsed_sections": [
        "NtTzwGgBdFVr"
      ],
      "provenance": [],
      "toc_visible": true
    },
    "kernelspec": {
      "display_name": "Python 3",
      "name": "python3"
    },
    "language_info": {
      "name": "python"
    }
  },
  "nbformat": 4,
  "nbformat_minor": 0
}